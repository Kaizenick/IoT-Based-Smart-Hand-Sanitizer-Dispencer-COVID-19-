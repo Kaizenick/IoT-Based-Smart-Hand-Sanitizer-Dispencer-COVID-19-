{
 "cells": [
  {
   "cell_type": "code",
   "execution_count": 1,
   "metadata": {},
   "outputs": [
    {
     "name": "stdout",
     "output_type": "stream",
     "text": [
      "{'with mask': 0, 'without mask': 1}\n",
      "['with mask', 'without mask']\n",
      "[0, 1]\n"
     ]
    }
   ],
   "source": [
    "import cv2,os\n",
    "\n",
    "data_path=(\"C:\\\\Users\\\\soham\\\\3D Objects\\\\ML\\\\FACE MASK\\\\dataset\")\n",
    "categories=os.listdir(data_path)\n",
    "labels=[i for i in range(len(categories))]\n",
    "\n",
    "label_dict=dict(zip(categories,labels)) #empty dictionary\n",
    "\n",
    "print(label_dict)\n",
    "print(categories)\n",
    "print(labels)"
   ]
  },
  {
   "cell_type": "code",
   "execution_count": 2,
   "metadata": {},
   "outputs": [],
   "source": [
    "img_size=100\n",
    "data=[]\n",
    "target=[]\n",
    "\n",
    "\n",
    "for category in categories:\n",
    "    folder_path=os.path.join(data_path,category)\n",
    "    img_names=os.listdir(folder_path)\n",
    "        \n",
    "    for img_name in img_names:\n",
    "        img_path=os.path.join(folder_path,img_name)\n",
    "        img=cv2.imread(img_path)\n",
    "\n",
    "        try:\n",
    "            gray=cv2.cvtColor(img,cv2.COLOR_BGR2GRAY)           \n",
    "            #Coverting the image into gray scale\n",
    "            resized=cv2.resize(gray,(img_size,img_size))\n",
    "            #resizing the gray scale into 50x50, since we need a fixed common size for all the images in the dataset\n",
    "            data.append(resized)\n",
    "            target.append(label_dict[category])\n",
    "            #appending the image and the label(categorized) into the list (dataset)\n",
    "\n",
    "        except Exception as e:\n",
    "            print('Exception:',e)\n",
    "            #if any exception rasied, the exception will be printed here. And pass to the next image"
   ]
  },
  {
   "cell_type": "code",
   "execution_count": 3,
   "metadata": {},
   "outputs": [],
   "source": [
    "import numpy as np\n",
    "\n",
    "data=np.array(data)/255.0\n",
    "data=np.reshape(data,(data.shape[0],img_size,img_size,1))\n",
    "target=np.array(target)\n",
    "\n",
    "from keras.utils import np_utils\n",
    "\n",
    "new_target=np_utils.to_categorical(target)"
   ]
  },
  {
   "cell_type": "markdown",
   "metadata": {},
   "source": [
    "# Convolutional Neural Network Architecture"
   ]
  },
  {
   "cell_type": "code",
   "execution_count": 4,
   "metadata": {},
   "outputs": [],
   "source": [
    "import numpy as np\n",
    "\n",
    "data=np.load('C:\\\\Users\\\\soham\\\\3D Objects\\\\ML\\\\FACE MASK\\\\data.npy')\n",
    "target=np.load('C:\\\\Users\\\\soham\\\\3D Objects\\\\ML\\\\FACE MASK\\\\target.npy')\n",
    "\n",
    "#loading the save numpy arrays in the previous code"
   ]
  },
  {
   "cell_type": "code",
   "execution_count": 5,
   "metadata": {},
   "outputs": [],
   "source": [
    "from keras.models import Sequential\n",
    "from keras.layers import Dense,Activation,Flatten,Dropout\n",
    "from keras.layers import Conv2D,MaxPooling2D\n",
    "from keras.callbacks import ModelCheckpoint\n",
    "\n",
    "model=Sequential()\n",
    "\n",
    "model.add(Conv2D(200,(3,3),input_shape=data.shape[1:]))\n",
    "model.add(Activation('relu'))\n",
    "model.add(MaxPooling2D(pool_size=(2,2)))\n",
    "#The first CNN layer followed by Relu and MaxPooling layers\n",
    "\n",
    "model.add(Conv2D(100,(3,3)))\n",
    "model.add(Activation('relu'))\n",
    "model.add(MaxPooling2D(pool_size=(2,2)))\n",
    "#The second convolution layer followed by Relu and MaxPooling layers\n",
    "\n",
    "model.add(Flatten())\n",
    "model.add(Dropout(0.5))\n",
    "#Flatten layer to stack the output convolutions from second convolution layer\n",
    "model.add(Dense(50,activation='relu'))\n",
    "#Dense layer of 64 neurons\n",
    "model.add(Dense(2,activation='softmax'))\n",
    "#The Final layer with two outputs for two categories\n",
    "\n",
    "model.compile(loss='categorical_crossentropy',optimizer='adam',metrics=['accuracy'])"
   ]
  },
  {
   "cell_type": "code",
   "execution_count": 6,
   "metadata": {},
   "outputs": [],
   "source": [
    "from sklearn.model_selection import train_test_split\n",
    "\n",
    "train_data,test_data,train_target,test_target=train_test_split(data,target,test_size=0.1)"
   ]
  },
  {
   "cell_type": "code",
   "execution_count": 7,
   "metadata": {},
   "outputs": [
    {
     "name": "stdout",
     "output_type": "stream",
     "text": [
      "Epoch 1/25\n",
      "31/31 [==============================] - ETA: 0s - loss: 0.7180 - accuracy: 0.5091WARNING:tensorflow:From E:\\anaconda\\lib\\site-packages\\tensorflow\\python\\training\\tracking\\tracking.py:111: Model.state_updates (from tensorflow.python.keras.engine.training) is deprecated and will be removed in a future version.\n",
      "Instructions for updating:\n",
      "This property should not be used in TensorFlow 2.0, as updates are applied automatically.\n",
      "WARNING:tensorflow:From E:\\anaconda\\lib\\site-packages\\tensorflow\\python\\training\\tracking\\tracking.py:111: Layer.updates (from tensorflow.python.keras.engine.base_layer) is deprecated and will be removed in a future version.\n",
      "Instructions for updating:\n",
      "This property should not be used in TensorFlow 2.0, as updates are applied automatically.\n",
      "INFO:tensorflow:Assets written to: model-001.model\\assets\n",
      "31/31 [==============================] - 60s 2s/step - loss: 0.7180 - accuracy: 0.5091 - val_loss: 0.6844 - val_accuracy: 0.4960\n",
      "Epoch 2/25\n",
      "31/31 [==============================] - ETA: 0s - loss: 0.6229 - accuracy: 0.6636INFO:tensorflow:Assets written to: model-002.model\\assets\n",
      "31/31 [==============================] - 42s 1s/step - loss: 0.6229 - accuracy: 0.6636 - val_loss: 0.5682 - val_accuracy: 0.6653\n",
      "Epoch 3/25\n",
      "31/31 [==============================] - ETA: 0s - loss: 0.4271 - accuracy: 0.8273INFO:tensorflow:Assets written to: model-003.model\\assets\n",
      "31/31 [==============================] - 39s 1s/step - loss: 0.4271 - accuracy: 0.8273 - val_loss: 0.4710 - val_accuracy: 0.7661\n",
      "Epoch 4/25\n",
      "31/31 [==============================] - ETA: 0s - loss: 0.3007 - accuracy: 0.8717INFO:tensorflow:Assets written to: model-004.model\\assets\n",
      "31/31 [==============================] - 39s 1s/step - loss: 0.3007 - accuracy: 0.8717 - val_loss: 0.2460 - val_accuracy: 0.9032\n",
      "Epoch 5/25\n",
      "31/31 [==============================] - ETA: 0s - loss: 0.2361 - accuracy: 0.9051INFO:tensorflow:Assets written to: model-005.model\\assets\n",
      "31/31 [==============================] - 41s 1s/step - loss: 0.2361 - accuracy: 0.9051 - val_loss: 0.2163 - val_accuracy: 0.9113\n",
      "Epoch 6/25\n",
      "31/31 [==============================] - ETA: 0s - loss: 0.1858 - accuracy: 0.9212INFO:tensorflow:Assets written to: model-006.model\\assets\n",
      "31/31 [==============================] - 40s 1s/step - loss: 0.1858 - accuracy: 0.9212 - val_loss: 0.2007 - val_accuracy: 0.9153\n",
      "Epoch 7/25\n",
      "31/31 [==============================] - ETA: 0s - loss: 0.1242 - accuracy: 0.9586INFO:tensorflow:Assets written to: model-007.model\\assets\n",
      "31/31 [==============================] - 40s 1s/step - loss: 0.1242 - accuracy: 0.9586 - val_loss: 0.1922 - val_accuracy: 0.9274\n",
      "Epoch 8/25\n",
      "31/31 [==============================] - 36s 1s/step - loss: 0.1086 - accuracy: 0.9616 - val_loss: 0.2595 - val_accuracy: 0.8871\n",
      "Epoch 9/25\n",
      "31/31 [==============================] - ETA: 0s - loss: 0.0931 - accuracy: 0.9677INFO:tensorflow:Assets written to: model-009.model\\assets\n",
      "31/31 [==============================] - 38s 1s/step - loss: 0.0931 - accuracy: 0.9677 - val_loss: 0.1753 - val_accuracy: 0.9355\n",
      "Epoch 10/25\n",
      "31/31 [==============================] - ETA: 0s - loss: 0.0549 - accuracy: 0.9848INFO:tensorflow:Assets written to: model-010.model\\assets\n",
      "31/31 [==============================] - 38s 1s/step - loss: 0.0549 - accuracy: 0.9848 - val_loss: 0.1608 - val_accuracy: 0.9476\n",
      "Epoch 11/25\n",
      "31/31 [==============================] - 37s 1s/step - loss: 0.0413 - accuracy: 0.9859 - val_loss: 0.1806 - val_accuracy: 0.9556\n",
      "Epoch 12/25\n",
      "31/31 [==============================] - 38s 1s/step - loss: 0.0361 - accuracy: 0.9899 - val_loss: 0.1985 - val_accuracy: 0.9556\n",
      "Epoch 13/25\n",
      "31/31 [==============================] - 37s 1s/step - loss: 0.0358 - accuracy: 0.9899 - val_loss: 0.1819 - val_accuracy: 0.9476\n",
      "Epoch 14/25\n",
      "31/31 [==============================] - 38s 1s/step - loss: 0.0283 - accuracy: 0.9909 - val_loss: 0.2751 - val_accuracy: 0.9476\n",
      "Epoch 15/25\n",
      "31/31 [==============================] - 37s 1s/step - loss: 0.0329 - accuracy: 0.9909 - val_loss: 0.2041 - val_accuracy: 0.9355\n",
      "Epoch 16/25\n",
      "31/31 [==============================] - 37s 1s/step - loss: 0.0269 - accuracy: 0.9929 - val_loss: 0.2255 - val_accuracy: 0.9556\n",
      "Epoch 17/25\n",
      "31/31 [==============================] - 37s 1s/step - loss: 0.0317 - accuracy: 0.9869 - val_loss: 0.1970 - val_accuracy: 0.9435\n",
      "Epoch 18/25\n",
      "31/31 [==============================] - 36s 1s/step - loss: 0.0441 - accuracy: 0.9808 - val_loss: 0.2056 - val_accuracy: 0.9315\n",
      "Epoch 19/25\n",
      "31/31 [==============================] - 36s 1s/step - loss: 0.0482 - accuracy: 0.9798 - val_loss: 0.2062 - val_accuracy: 0.9516\n",
      "Epoch 20/25\n",
      "31/31 [==============================] - 37s 1s/step - loss: 0.0246 - accuracy: 0.9869 - val_loss: 0.1915 - val_accuracy: 0.9637\n",
      "Epoch 21/25\n",
      "31/31 [==============================] - 37s 1s/step - loss: 0.0549 - accuracy: 0.9818 - val_loss: 0.2290 - val_accuracy: 0.9435\n",
      "Epoch 22/25\n",
      "31/31 [==============================] - 36s 1s/step - loss: 0.0330 - accuracy: 0.9909 - val_loss: 0.1990 - val_accuracy: 0.9435\n",
      "Epoch 23/25\n",
      "31/31 [==============================] - 36s 1s/step - loss: 0.0206 - accuracy: 0.9919 - val_loss: 0.2032 - val_accuracy: 0.9556\n",
      "Epoch 24/25\n",
      "31/31 [==============================] - 38s 1s/step - loss: 0.0212 - accuracy: 0.9909 - val_loss: 0.1929 - val_accuracy: 0.9476\n",
      "Epoch 25/25\n",
      "31/31 [==============================] - 37s 1s/step - loss: 0.0189 - accuracy: 0.9960 - val_loss: 0.2174 - val_accuracy: 0.9476\n"
     ]
    }
   ],
   "source": [
    "checkpoint = ModelCheckpoint('model-{epoch:03d}.model',monitor='val_loss',verbose=0,save_best_only=True,mode='auto')\n",
    "history=model.fit(train_data,train_target,epochs=25,callbacks=[checkpoint],validation_split=0.2)"
   ]
  },
  {
   "cell_type": "code",
   "execution_count": 18,
   "metadata": {},
   "outputs": [
    {
     "data": {
      "image/png": "[encoded data removed]",
      "text/plain": [
       "<Figure size 432x288 with 1 Axes>"
      ]
     },
     "metadata": {
      "needs_background": "light"
     },
     "output_type": "display_data"
    }
   ],
   "source": [
    "from matplotlib import pyplot as plt\n",
    "\n",
    "plt.plot(history.history['loss'],'r',label='training loss')\n",
    "plt.plot(history.history['val_loss'],label='validation loss')\n",
    "plt.xlabel('# epochs')\n",
    "plt.ylabel('loss')\n",
    "plt.legend()\n",
    "plt.savefig('plot.png', dpi=300, bbox_inches='tight')\n",
    "plt.show()"
   ]
  },
  {
   "cell_type": "code",
   "execution_count": 19,
   "metadata": {},
   "outputs": [
    {
     "data": {
      "image/png": "[encoded data removed]",
      "text/plain": [
       "<Figure size 432x288 with 1 Axes>"
      ]
     },
     "metadata": {
      "needs_background": "light"
     },
     "output_type": "display_data"
    }
   ],
   "source": [
    "\n",
    "plt.plot(history.history['accuracy'],'r',label='training accuracy')\n",
    "plt.plot(history.history['val_accuracy'],label='validation accuracy')\n",
    "plt.xlabel('# epochs')\n",
    "plt.ylabel('accuracy')\n",
    "plt.legend()\n",
    "plt.savefig('plot1.png', dpi=300, bbox_inches='tight')\n",
    "plt.show()"
   ]
  },
  {
   "cell_type": "code",
   "execution_count": 11,
   "metadata": {},
   "outputs": [
    {
     "name": "stdout",
     "output_type": "stream",
     "text": [
      "5/5 [==============================] - 1s 214ms/step - loss: 0.1887 - accuracy: 0.9493\n",
      "[0.1886659860610962, 0.9492753744125366]\n"
     ]
    }
   ],
   "source": [
    "print(model.evaluate(test_data,test_target))"
   ]
  },
  {
   "cell_type": "code",
   "execution_count": 12,
   "metadata": {},
   "outputs": [],
   "source": [
    "from keras.models import load_model\n",
    "import cv2\n",
    "import numpy as np"
   ]
  },
  {
   "cell_type": "code",
   "execution_count": 13,
   "metadata": {},
   "outputs": [],
   "source": [
    "model = load_model('C:\\\\Users\\\\soham\\\\3D Objects\\\\ML\\\\FACE MASK\\\\model-017.model')\n",
    "\n",
    "face_clsfr=cv2.CascadeClassifier(cv2.data.haarcascades + 'haarcascade_frontalface_default.xml')\n",
    "\n",
    "source=cv2.VideoCapture(0)\n",
    "\n",
    "labels_dict={0:'MASK',1:'NO MASK'}\n",
    "color_dict={0:(0,255,0),1:(0,0,255)}"
   ]
  },
  {
   "cell_type": "code",
   "execution_count": null,
   "metadata": {},
   "outputs": [],
   "source": [
    "while(True):\n",
    "\n",
    "    ret,img=source.read()\n",
    "    gray=cv2.cvtColor(img,cv2.COLOR_BGR2GRAY)\n",
    "    faces=face_clsfr.detectMultiScale(gray,1.3,5)  \n",
    "\n",
    "    for (x,y,w,h) in faces:\n",
    "    \n",
    "        face_img=gray[y:y+w,x:x+w]\n",
    "        resized=cv2.resize(face_img,(100,100))\n",
    "        normalized=resized/255.0\n",
    "        reshaped=np.reshape(normalized,(1,100,100,1))\n",
    "        result=model.predict(reshaped)\n",
    "\n",
    "        label=np.argmax(result,axis=1)[0]\n",
    "      \n",
    "        cv2.rectangle(img,(x,y),(x+w,y+h),color_dict[label],2)\n",
    "        cv2.rectangle(img,(x,y-40),(x+w,y),color_dict[label],-1)\n",
    "        cv2.putText(img, labels_dict[label], (x, y-10),cv2.FONT_HERSHEY_SIMPLEX,0.8,(255,255,255),2)\n",
    "        \n",
    "        \n",
    "    cv2.imshow('LIVE',img)\n",
    "    key=cv2.waitKey(1)\n",
    "    \n",
    "    if(key==27):\n",
    "        break\n",
    "        \n",
    "cv2.destroyAllWindows()\n",
    "source.release()"
   ]
  },
  {
   "cell_type": "code",
   "execution_count": null,
   "metadata": {},
   "outputs": [],
   "source": []
  }
 ],
 "metadata": {
  "kernelspec": {
   "display_name": "Python 3",
   "language": "python",
   "name": "python3"
  },
  "language_info": {
   "codemirror_mode": {
    "name": "ipython",
    "version": 3
   },
   "file_extension": ".py",
   "mimetype": "text/x-python",
   "name": "python",
   "nbconvert_exporter": "python",
   "pygments_lexer": "ipython3",
   "version": "3.7.4"
  }
 },
 "nbformat": 4,
 "nbformat_minor": 2
}
